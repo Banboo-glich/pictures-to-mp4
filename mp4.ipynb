{
 "cells": [
  {
   "cell_type": "markdown",
   "id": "d910b938",
   "metadata": {
    "pycharm": {
     "name": "#%% md\n"
    }
   },
   "source": [
    "# 参考\n",
    "https://qiita.com/matoarea/items/e2d10c6cf8e8b4c3ab2f"
   ]
  },
  {
   "cell_type": "markdown",
   "id": "9605ca78",
   "metadata": {
    "pycharm": {
     "name": "#%% md\n"
    }
   },
   "source": [
    "## トリミングした画像を連結させ、動画を作成する。"
   ]
  },
  {
   "cell_type": "code",
   "execution_count": 7,
   "id": "b1d52e18",
   "metadata": {
    "pycharm": {
     "name": "#%%\n"
    }
   },
   "outputs": [],
   "source": [
    "import cv2\n",
    "import glob\n",
    "import os\n",
    "import shutil\n",
    "def timelaps(folder_name):\n",
    "    images = sorted(glob.glob('{0}/*.jpg'.format(folder_name))) # 撮影した画像の読み込み。\n",
    "    print(\"画像の総枚数{0}\".format(len(images)))\n",
    "\n",
    "    #ここを適当に変える（注意　幅と高さを反転してあげる）\n",
    "    frame_rate = 120\n",
    "    width = 1024\n",
    "    height = 768\n",
    "    fourcc = cv2.VideoWriter_fourcc('m','p','4','v') # 動画のコーデックをmp指定。（ちょっと違うが）動画の拡張子を決める、    \n",
    "    video = cv2.VideoWriter('KaicoTracker-master/Jun9/June9.mp4', fourcc, frame_rate, (width, height)) # 作成する動画の情報を指定（ファイル名、拡張子、FPS、動画サイズ）。\n",
    "\n",
    "    print(\"動画変換中...\")\n",
    "\n",
    "    for i in range(len(images)):\n",
    "        # 画像を読み込む\n",
    "        img = cv2.imread(images[i])\n",
    "        video.write(img) \n",
    "\n",
    "    video.release()\n",
    "    print(\"動画変換完了\")"
   ]
  },
  {
   "cell_type": "code",
   "execution_count": 8,
   "id": "b5549478",
   "metadata": {
    "pycharm": {
     "name": "#%%\n"
    }
   },
   "outputs": [
    {
     "name": "stdout",
     "output_type": "stream",
     "text": [
      "画像の総枚数1221\n",
      "動画変換中...\n",
      "動画変換完了\n"
     ]
    }
   ],
   "source": [
    "timelaps('Kaico_Images\\Jun9')"
   ]
  },
  {
   "cell_type": "code",
   "execution_count": 13,
   "id": "ee98889e",
   "metadata": {
    "pycharm": {
     "name": "#%%\n"
    }
   },
   "outputs": [
    {
     "name": "stdout",
     "output_type": "stream",
     "text": [
      "Gell\n"
     ]
    }
   ],
   "source": [
    "print('Gell')"
   ]
  },
  {
   "cell_type": "code",
   "execution_count": null,
   "id": "65d9954e",
   "metadata": {
    "pycharm": {
     "name": "#%%\n"
    }
   },
   "outputs": [],
   "source": []
  }
 ],
 "metadata": {
  "kernelspec": {
   "display_name": "Python 3 (ipykernel)",
   "language": "python",
   "name": "python3"
  },
  "language_info": {
   "codemirror_mode": {
    "name": "ipython",
    "version": 3
   },
   "file_extension": ".py",
   "mimetype": "text/x-python",
   "name": "python",
   "nbconvert_exporter": "python",
   "pygments_lexer": "ipython3",
   "version": "3.8.13"
  }
 },
 "nbformat": 4,
 "nbformat_minor": 5
}